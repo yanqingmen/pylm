{
 "metadata": {
  "name": "",
  "signature": "sha256:fec511cf33dd02706760be6ad74bd114d8dfc705e3dd30dd831f1b58e708e5f9"
 },
 "nbformat": 3,
 "nbformat_minor": 0,
 "worksheets": [
  {
   "cells": [
    {
     "cell_type": "code",
     "collapsed": false,
     "input": [
      "import layer\n",
      "import numpy as np\n",
      "from numpy import random"
     ],
     "language": "python",
     "metadata": {},
     "outputs": [],
     "prompt_number": 1
    },
    {
     "cell_type": "code",
     "collapsed": false,
     "input": [
      "import operations"
     ],
     "language": "python",
     "metadata": {},
     "outputs": [],
     "prompt_number": 2
    },
    {
     "cell_type": "code",
     "collapsed": false,
     "input": [
      "rec_layer = layer.RecurrentLayer(10, operations.np_sigmoid_op, operations.np_sigmoid_back_op)"
     ],
     "language": "python",
     "metadata": {},
     "outputs": [],
     "prompt_number": 3
    },
    {
     "cell_type": "code",
     "collapsed": false,
     "input": [
      "import node\n",
      "import util\n",
      "\n",
      "def create_node(input_size, output_size):\n",
      "    data = util.init_np_weights(input_size, output_size)\n",
      "    grad = util.init_np_zeros_weights(input_size, output_size)\n",
      "    return node.Node(data, grad=grad)"
     ],
     "language": "python",
     "metadata": {},
     "outputs": [],
     "prompt_number": 4
    },
    {
     "cell_type": "code",
     "collapsed": false,
     "input": [
      "input_nodes = [create_node(2, 10) for i in xrange(2)]\n",
      "output_nodes = [create_node(2, 10) for i in xrange(2)]"
     ],
     "language": "python",
     "metadata": {},
     "outputs": [],
     "prompt_number": 5
    },
    {
     "cell_type": "code",
     "collapsed": false,
     "input": [
      "act_layer = layer.ActivationLayer(operations.np_sigmoid_op, operations.np_sigmoid_back_op)"
     ],
     "language": "python",
     "metadata": {},
     "outputs": [],
     "prompt_number": 6
    },
    {
     "cell_type": "code",
     "collapsed": false,
     "input": [
      "s_nodes = [create_node(5, 10)]\n",
      "t_nodes = [create_node(5, 10)]\n",
      "act_layer.forward(s_nodes, t_nodes)\n",
      "grad_data = t_nodes[0].get_grad()\n",
      "grad_data += 0.5\n",
      "act_layer.backprob(s_nodes, t_nodes)\n",
      "print s_nodes[0].get_grad()"
     ],
     "language": "python",
     "metadata": {},
     "outputs": [
      {
       "output_type": "stream",
       "stream": "stdout",
       "text": [
        "[[ 0.10339038  0.11957774  0.10028198  0.09360813  0.12420183  0.05380365\n",
        "   0.11727365  0.12365093  0.07747635  0.11890238]\n",
        " [ 0.09013353  0.12133855  0.12491664  0.11862874  0.1142246   0.08387062\n",
        "   0.0418969   0.11535491  0.12222681  0.04530428]\n",
        " [ 0.06898088  0.12494293  0.12292116  0.11640716  0.05916209  0.0759808\n",
        "   0.04423831  0.12052284  0.12196325  0.12439028]\n",
        " [ 0.06638007  0.11660929  0.12426231  0.02252554  0.12499891  0.12497004\n",
        "   0.11575164  0.06367729  0.10465414  0.124857  ]\n",
        " [ 0.09078414  0.10064348  0.07408752  0.08895704  0.12423805  0.11269221\n",
        "   0.12385407  0.12176415  0.11774051  0.10074486]]\n"
       ]
      }
     ],
     "prompt_number": 7
    },
    {
     "cell_type": "code",
     "collapsed": false,
     "input": [
      "rec_layer.forward(input_nodes , output_nodes)\n",
      "print \"0-data\", output_nodes[0].get_data()\n",
      "print \"0-grad\", output_nodes[0].get_grad()\n",
      "print \"1-data\", output_nodes[1].get_data()\n",
      "print \"1-grad\", output_nodes[1].get_grad()\n",
      "out_grad = output_nodes[0].get_grad()\n",
      "out_grad += 0.5\n",
      "print \"0-grad\", output_nodes[0].get_grad()\n",
      "rec_layer.backprob(input_nodes, output_nodes)\n",
      "print \"0-data\", output_nodes[0].get_data()\n",
      "print \"0-grad\", output_nodes[0].get_grad()\n",
      "print \"1-data\", output_nodes[1].get_data()\n",
      "print \"1-grad\", output_nodes[1].get_grad()\n",
      "print input_nodes[0].get_grad()\n",
      "print input_nodes[1].get_grad()"
     ],
     "language": "python",
     "metadata": {},
     "outputs": [
      {
       "output_type": "stream",
       "stream": "stdout",
       "text": [
        "0-data [[ 0.95202729  0.0010728   0.64279474  0.00537763  0.09787418  0.20278941\n",
        "   0.60696585  0.7107613   0.20334268  0.12157044]\n",
        " [ 0.93314071  0.09046573  0.00418613  0.60343656  0.02516544  0.03750676\n",
        "   0.23410941  0.05060138  0.00828733  0.11882612]]\n",
        "0-grad [[-0.75 -0.75 -0.75 -0.75 -0.75 -0.75 -0.75 -0.75 -0.75 -0.75]\n",
        " [-0.75 -0.75 -0.75 -0.75 -0.75 -0.75 -0.75 -0.75 -0.75 -0.75]]\n",
        "1-data [[ 2.98796135 -6.83640887  0.58751489 -5.22011628 -2.22107125 -1.36895083\n",
        "   0.43457604  0.89908436 -1.36553201 -1.97764185]\n",
        " [ 2.63596572 -2.30796161 -5.47178279  0.41980488 -3.65679622 -3.24500596\n",
        "  -1.18525074 -2.93185    -4.78470594 -2.00359376]]\n",
        "1-grad [[-0.0342535  -0.00080374 -0.17220725 -0.00401153 -0.06622112 -0.1212494\n",
        "  -0.17891873 -0.15418476 -0.12149582 -0.0800933 ]\n",
        " [-0.04679185 -0.06171126 -0.00312646 -0.17947566 -0.0183991  -0.027075\n",
        "  -0.13447665 -0.03603066 -0.00616399 -0.07852985]]\n",
        "0-grad [[-0.25 -0.25 -0.25 -0.25 -0.25 -0.25 -0.25 -0.25 -0.25 -0.25]\n",
        " [-0.25 -0.25 -0.25 -0.25 -0.25 -0.25 -0.25 -0.25 -0.25 -0.25]]\n",
        "0-data [[ 0.95202729  0.0010728   0.64279474  0.00537763  0.09787418  0.20278941\n",
        "   0.60696585  0.7107613   0.20334268  0.12157044]\n",
        " [ 0.93314071  0.09046573  0.00418613  0.60343656  0.02516544  0.03750676\n",
        "   0.23410941  0.05060138  0.00828733  0.11882612]]\n",
        "0-grad [[-0.25 -0.25 -0.25 -0.25 -0.25 -0.25 -0.25 -0.25 -0.25 -0.25]\n",
        " [-0.25 -0.25 -0.25 -0.25 -0.25 -0.25 -0.25 -0.25 -0.25 -0.25]]\n",
        "1-data [[ 2.98796135 -6.83640887  0.58751489 -5.22011628 -2.22107125 -1.36895083\n",
        "   0.43457604  0.89908436 -1.36553201 -1.97764185]\n",
        " [ 2.63596572 -2.30796161 -5.47178279  0.41980488 -3.65679622 -3.24500596\n",
        "  -1.18525074 -2.93185    -4.78470594 -2.00359376]]\n",
        "1-grad [[-0.01141783 -0.00026791 -0.05740242 -0.00133718 -0.02207371 -0.04041647\n",
        "  -0.05963958 -0.05139492 -0.04049861 -0.02669777]\n",
        " [-0.01559728 -0.02057042 -0.00104215 -0.05982522 -0.00613303 -0.009025\n",
        "  -0.04482555 -0.01201022 -0.00205466 -0.02617662]]\n",
        "[[-0.09912877 -0.06798936 -0.32022716 -0.20582754  0.1369406  -0.06632055\n",
        "   0.10519024  0.10511377 -0.22246605  0.09474984]\n",
        " [-0.05399497  0.11195691 -0.06284459 -0.03425457  0.07724076  0.0996502\n",
        "  -0.02719492  0.13994587 -0.0576708  -0.02143505]]\n",
        "[[-0.09912877 -0.06798936 -0.32022716 -0.20582754  0.1369406  -0.06632055\n",
        "   0.10519024  0.10511377 -0.22246605  0.09474984]\n",
        " [-0.05399497  0.11195691 -0.06284459 -0.03425457  0.07724076  0.0996502\n",
        "  -0.02719492  0.13994587 -0.0576708  -0.02143505]]\n"
       ]
      }
     ],
     "prompt_number": 9
    },
    {
     "cell_type": "code",
     "collapsed": false,
     "input": [],
     "language": "python",
     "metadata": {},
     "outputs": []
    }
   ],
   "metadata": {}
  }
 ]
}